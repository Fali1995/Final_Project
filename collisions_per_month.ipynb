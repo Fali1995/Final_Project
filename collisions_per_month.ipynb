{
 "cells": [
  {
   "cell_type": "code",
   "execution_count": 1,
   "metadata": {},
   "outputs": [],
   "source": [
    "import pandas as pd"
   ]
  },
  {
   "cell_type": "code",
   "execution_count": 2,
   "metadata": {},
   "outputs": [],
   "source": [
    "path = \"resources/traffic_collision.csv\""
   ]
  },
  {
   "cell_type": "code",
   "execution_count": 3,
   "metadata": {},
   "outputs": [],
   "source": [
    "df = pd.read_csv(path)"
   ]
  },
  {
   "cell_type": "code",
   "execution_count": 4,
   "metadata": {},
   "outputs": [
    {
     "data": {
      "text/html": [
       "<div>\n",
       "<style scoped>\n",
       "    .dataframe tbody tr th:only-of-type {\n",
       "        vertical-align: middle;\n",
       "    }\n",
       "\n",
       "    .dataframe tbody tr th {\n",
       "        vertical-align: top;\n",
       "    }\n",
       "\n",
       "    .dataframe thead th {\n",
       "        text-align: right;\n",
       "    }\n",
       "</style>\n",
       "<table border=\"1\" class=\"dataframe\">\n",
       "  <thead>\n",
       "    <tr style=\"text-align: right;\">\n",
       "      <th></th>\n",
       "      <th>DR Number</th>\n",
       "      <th>Date Reported</th>\n",
       "      <th>Date Occurred</th>\n",
       "      <th>Time Occurred</th>\n",
       "      <th>Area ID</th>\n",
       "      <th>Area Name</th>\n",
       "      <th>Reporting District</th>\n",
       "      <th>Crime Code</th>\n",
       "      <th>Crime Code Description</th>\n",
       "      <th>MO Codes</th>\n",
       "      <th>...</th>\n",
       "      <th>Premise Description</th>\n",
       "      <th>Address</th>\n",
       "      <th>Cross Street</th>\n",
       "      <th>Location</th>\n",
       "      <th>Zip Codes</th>\n",
       "      <th>Census Tracts</th>\n",
       "      <th>Precinct Boundaries</th>\n",
       "      <th>LA Specific Plans</th>\n",
       "      <th>Council Districts</th>\n",
       "      <th>Neighborhood Councils (Certified)</th>\n",
       "    </tr>\n",
       "  </thead>\n",
       "  <tbody>\n",
       "    <tr>\n",
       "      <th>0</th>\n",
       "      <td>191712725</td>\n",
       "      <td>2019-07-13T00:00:00.000</td>\n",
       "      <td>2019-07-13T00:00:00.000</td>\n",
       "      <td>930</td>\n",
       "      <td>17</td>\n",
       "      <td>Devonshire</td>\n",
       "      <td>1745</td>\n",
       "      <td>997</td>\n",
       "      <td>TRAFFIC COLLISION</td>\n",
       "      <td>NaN</td>\n",
       "      <td>...</td>\n",
       "      <td>STREET</td>\n",
       "      <td>CHATSWORTH                   ST</td>\n",
       "      <td>YARMOUTH                     AV</td>\n",
       "      <td>{'longitude': '-118.5216', 'human_address': '{...</td>\n",
       "      <td>19329.0</td>\n",
       "      <td>83.0</td>\n",
       "      <td>1534.0</td>\n",
       "      <td>39.0</td>\n",
       "      <td>2.0</td>\n",
       "      <td>79.0</td>\n",
       "    </tr>\n",
       "    <tr>\n",
       "      <th>1</th>\n",
       "      <td>190615388</td>\n",
       "      <td>2019-07-13T00:00:00.000</td>\n",
       "      <td>2019-07-13T00:00:00.000</td>\n",
       "      <td>1135</td>\n",
       "      <td>6</td>\n",
       "      <td>Hollywood</td>\n",
       "      <td>667</td>\n",
       "      <td>997</td>\n",
       "      <td>TRAFFIC COLLISION</td>\n",
       "      <td>NaN</td>\n",
       "      <td>...</td>\n",
       "      <td>STREET</td>\n",
       "      <td>BRONSON                      AV</td>\n",
       "      <td>VIRGINIA                     AV</td>\n",
       "      <td>{'longitude': '-118.3179', 'human_address': '{...</td>\n",
       "      <td>23669.0</td>\n",
       "      <td>426.0</td>\n",
       "      <td>517.0</td>\n",
       "      <td>NaN</td>\n",
       "      <td>8.0</td>\n",
       "      <td>57.0</td>\n",
       "    </tr>\n",
       "    <tr>\n",
       "      <th>2</th>\n",
       "      <td>191415993</td>\n",
       "      <td>2019-07-13T00:00:00.000</td>\n",
       "      <td>2019-07-13T00:00:00.000</td>\n",
       "      <td>1310</td>\n",
       "      <td>14</td>\n",
       "      <td>Pacific</td>\n",
       "      <td>1452</td>\n",
       "      <td>997</td>\n",
       "      <td>TRAFFIC COLLISION</td>\n",
       "      <td>NaN</td>\n",
       "      <td>...</td>\n",
       "      <td>STREET</td>\n",
       "      <td>DRIFTWOOD                    ST</td>\n",
       "      <td>PACIFIC                      AV</td>\n",
       "      <td>{'longitude': '-118.4637', 'human_address': '{...</td>\n",
       "      <td>25074.0</td>\n",
       "      <td>915.0</td>\n",
       "      <td>952.0</td>\n",
       "      <td>10.0</td>\n",
       "      <td>10.0</td>\n",
       "      <td>30.0</td>\n",
       "    </tr>\n",
       "    <tr>\n",
       "      <th>3</th>\n",
       "      <td>190913707</td>\n",
       "      <td>2019-07-13T00:00:00.000</td>\n",
       "      <td>2019-07-13T00:00:00.000</td>\n",
       "      <td>1230</td>\n",
       "      <td>9</td>\n",
       "      <td>Van Nuys</td>\n",
       "      <td>998</td>\n",
       "      <td>997</td>\n",
       "      <td>TRAFFIC COLLISION</td>\n",
       "      <td>NaN</td>\n",
       "      <td>...</td>\n",
       "      <td>STREET</td>\n",
       "      <td>COLDWATER CANYON             AV</td>\n",
       "      <td>VENTURA                      BL</td>\n",
       "      <td>{'longitude': '-118.4137', 'human_address': '{...</td>\n",
       "      <td>8492.0</td>\n",
       "      <td>352.0</td>\n",
       "      <td>1236.0</td>\n",
       "      <td>6.0</td>\n",
       "      <td>5.0</td>\n",
       "      <td>84.0</td>\n",
       "    </tr>\n",
       "    <tr>\n",
       "      <th>4</th>\n",
       "      <td>191113516</td>\n",
       "      <td>2019-07-13T00:00:00.000</td>\n",
       "      <td>2019-07-13T00:00:00.000</td>\n",
       "      <td>800</td>\n",
       "      <td>11</td>\n",
       "      <td>Northeast</td>\n",
       "      <td>1127</td>\n",
       "      <td>997</td>\n",
       "      <td>TRAFFIC COLLISION</td>\n",
       "      <td>NaN</td>\n",
       "      <td>...</td>\n",
       "      <td>STREET</td>\n",
       "      <td>FIGUEROA                     ST</td>\n",
       "      <td>YORK                         BL</td>\n",
       "      <td>{'longitude': '-118.1843', 'human_address': '{...</td>\n",
       "      <td>23673.0</td>\n",
       "      <td>359.0</td>\n",
       "      <td>575.0</td>\n",
       "      <td>NaN</td>\n",
       "      <td>9.0</td>\n",
       "      <td>93.0</td>\n",
       "    </tr>\n",
       "  </tbody>\n",
       "</table>\n",
       "<p>5 rows × 24 columns</p>\n",
       "</div>"
      ],
      "text/plain": [
       "   DR Number            Date Reported            Date Occurred  Time Occurred  \\\n",
       "0  191712725  2019-07-13T00:00:00.000  2019-07-13T00:00:00.000            930   \n",
       "1  190615388  2019-07-13T00:00:00.000  2019-07-13T00:00:00.000           1135   \n",
       "2  191415993  2019-07-13T00:00:00.000  2019-07-13T00:00:00.000           1310   \n",
       "3  190913707  2019-07-13T00:00:00.000  2019-07-13T00:00:00.000           1230   \n",
       "4  191113516  2019-07-13T00:00:00.000  2019-07-13T00:00:00.000            800   \n",
       "\n",
       "   Area ID   Area Name  Reporting District  Crime Code Crime Code Description  \\\n",
       "0       17  Devonshire                1745         997      TRAFFIC COLLISION   \n",
       "1        6   Hollywood                 667         997      TRAFFIC COLLISION   \n",
       "2       14     Pacific                1452         997      TRAFFIC COLLISION   \n",
       "3        9    Van Nuys                 998         997      TRAFFIC COLLISION   \n",
       "4       11   Northeast                1127         997      TRAFFIC COLLISION   \n",
       "\n",
       "  MO Codes  ...  Premise Description                          Address  \\\n",
       "0      NaN  ...               STREET  CHATSWORTH                   ST   \n",
       "1      NaN  ...               STREET  BRONSON                      AV   \n",
       "2      NaN  ...               STREET  DRIFTWOOD                    ST   \n",
       "3      NaN  ...               STREET  COLDWATER CANYON             AV   \n",
       "4      NaN  ...               STREET  FIGUEROA                     ST   \n",
       "\n",
       "                      Cross Street  \\\n",
       "0  YARMOUTH                     AV   \n",
       "1  VIRGINIA                     AV   \n",
       "2  PACIFIC                      AV   \n",
       "3  VENTURA                      BL   \n",
       "4  YORK                         BL   \n",
       "\n",
       "                                            Location Zip Codes Census Tracts  \\\n",
       "0  {'longitude': '-118.5216', 'human_address': '{...   19329.0          83.0   \n",
       "1  {'longitude': '-118.3179', 'human_address': '{...   23669.0         426.0   \n",
       "2  {'longitude': '-118.4637', 'human_address': '{...   25074.0         915.0   \n",
       "3  {'longitude': '-118.4137', 'human_address': '{...    8492.0         352.0   \n",
       "4  {'longitude': '-118.1843', 'human_address': '{...   23673.0         359.0   \n",
       "\n",
       "  Precinct Boundaries LA Specific Plans  Council Districts  \\\n",
       "0              1534.0              39.0                2.0   \n",
       "1               517.0               NaN                8.0   \n",
       "2               952.0              10.0               10.0   \n",
       "3              1236.0               6.0                5.0   \n",
       "4               575.0               NaN                9.0   \n",
       "\n",
       "   Neighborhood Councils (Certified)  \n",
       "0                               79.0  \n",
       "1                               57.0  \n",
       "2                               30.0  \n",
       "3                               84.0  \n",
       "4                               93.0  \n",
       "\n",
       "[5 rows x 24 columns]"
      ]
     },
     "execution_count": 4,
     "metadata": {},
     "output_type": "execute_result"
    }
   ],
   "source": [
    "df.head()"
   ]
  },
  {
   "cell_type": "code",
   "execution_count": 5,
   "metadata": {},
   "outputs": [],
   "source": [
    "df[\"Date Occurred\"] = pd.to_datetime(df[\"Date Occurred\"])"
   ]
  },
  {
   "cell_type": "code",
   "execution_count": 9,
   "metadata": {
    "scrolled": true
   },
   "outputs": [],
   "source": [
    "df = df[(df[\"Date Occurred\"].map(lambda x: x.year) != 2019) | (df[\"Date Occurred\"].map(lambda x: x.month) != 7)]"
   ]
  },
  {
   "cell_type": "code",
   "execution_count": 10,
   "metadata": {},
   "outputs": [
    {
     "data": {
      "text/html": [
       "<div>\n",
       "<style scoped>\n",
       "    .dataframe tbody tr th:only-of-type {\n",
       "        vertical-align: middle;\n",
       "    }\n",
       "\n",
       "    .dataframe tbody tr th {\n",
       "        vertical-align: top;\n",
       "    }\n",
       "\n",
       "    .dataframe thead th {\n",
       "        text-align: right;\n",
       "    }\n",
       "</style>\n",
       "<table border=\"1\" class=\"dataframe\">\n",
       "  <thead>\n",
       "    <tr style=\"text-align: right;\">\n",
       "      <th></th>\n",
       "      <th>DR Number</th>\n",
       "      <th>Date Reported</th>\n",
       "      <th>Date Occurred</th>\n",
       "      <th>Time Occurred</th>\n",
       "      <th>Area ID</th>\n",
       "      <th>Area Name</th>\n",
       "      <th>Reporting District</th>\n",
       "      <th>Crime Code</th>\n",
       "      <th>Crime Code Description</th>\n",
       "      <th>MO Codes</th>\n",
       "      <th>...</th>\n",
       "      <th>Premise Description</th>\n",
       "      <th>Address</th>\n",
       "      <th>Cross Street</th>\n",
       "      <th>Location</th>\n",
       "      <th>Zip Codes</th>\n",
       "      <th>Census Tracts</th>\n",
       "      <th>Precinct Boundaries</th>\n",
       "      <th>LA Specific Plans</th>\n",
       "      <th>Council Districts</th>\n",
       "      <th>Neighborhood Councils (Certified)</th>\n",
       "    </tr>\n",
       "  </thead>\n",
       "  <tbody>\n",
       "    <tr>\n",
       "      <th>1541</th>\n",
       "      <td>191112942</td>\n",
       "      <td>2019-07-02T00:00:00.000</td>\n",
       "      <td>2019-06-30</td>\n",
       "      <td>1515</td>\n",
       "      <td>11</td>\n",
       "      <td>Northeast</td>\n",
       "      <td>1142</td>\n",
       "      <td>997</td>\n",
       "      <td>TRAFFIC COLLISION</td>\n",
       "      <td>0605 3101 3401 3701 3006 3030</td>\n",
       "      <td>...</td>\n",
       "      <td>STREET</td>\n",
       "      <td>RUSSELL                      AV</td>\n",
       "      <td>HILLHURST</td>\n",
       "      <td>{'longitude': '-118.2874', 'human_address': '{...</td>\n",
       "      <td>23445.0</td>\n",
       "      <td>399.0</td>\n",
       "      <td>1328.0</td>\n",
       "      <td>16.0</td>\n",
       "      <td>7.0</td>\n",
       "      <td>3.0</td>\n",
       "    </tr>\n",
       "    <tr>\n",
       "      <th>1542</th>\n",
       "      <td>190411660</td>\n",
       "      <td>2019-06-30T00:00:00.000</td>\n",
       "      <td>2019-06-30</td>\n",
       "      <td>950</td>\n",
       "      <td>4</td>\n",
       "      <td>Hollenbeck</td>\n",
       "      <td>437</td>\n",
       "      <td>997</td>\n",
       "      <td>TRAFFIC COLLISION</td>\n",
       "      <td>NaN</td>\n",
       "      <td>...</td>\n",
       "      <td>STREET</td>\n",
       "      <td>N  EASTERN                      AV</td>\n",
       "      <td>ZELLA                        PL</td>\n",
       "      <td>{'longitude': '-118.1804', 'human_address': '{...</td>\n",
       "      <td>23449.0</td>\n",
       "      <td>501.0</td>\n",
       "      <td>771.0</td>\n",
       "      <td>NaN</td>\n",
       "      <td>9.0</td>\n",
       "      <td>91.0</td>\n",
       "    </tr>\n",
       "    <tr>\n",
       "      <th>1543</th>\n",
       "      <td>190316196</td>\n",
       "      <td>2019-06-30T00:00:00.000</td>\n",
       "      <td>2019-06-30</td>\n",
       "      <td>1540</td>\n",
       "      <td>3</td>\n",
       "      <td>Southwest</td>\n",
       "      <td>321</td>\n",
       "      <td>997</td>\n",
       "      <td>TRAFFIC COLLISION</td>\n",
       "      <td>NaN</td>\n",
       "      <td>...</td>\n",
       "      <td>STREET</td>\n",
       "      <td>3400 S  LA CIENEGA                   BL</td>\n",
       "      <td>NaN</td>\n",
       "      <td>{'longitude': '-118.3721', 'human_address': '{...</td>\n",
       "      <td>23077.0</td>\n",
       "      <td>669.0</td>\n",
       "      <td>1068.0</td>\n",
       "      <td>NaN</td>\n",
       "      <td>12.0</td>\n",
       "      <td>17.0</td>\n",
       "    </tr>\n",
       "    <tr>\n",
       "      <th>1544</th>\n",
       "      <td>191415131</td>\n",
       "      <td>2019-06-30T00:00:00.000</td>\n",
       "      <td>2019-06-30</td>\n",
       "      <td>1930</td>\n",
       "      <td>14</td>\n",
       "      <td>Pacific</td>\n",
       "      <td>1431</td>\n",
       "      <td>997</td>\n",
       "      <td>TRAFFIC COLLISION</td>\n",
       "      <td>3006 3028 3030 3035 3037 3101 3401 3701 4027</td>\n",
       "      <td>...</td>\n",
       "      <td>STREET</td>\n",
       "      <td>ANDALUSIA                    AV</td>\n",
       "      <td>ABBOT KINNEY                 BL</td>\n",
       "      <td>{'longitude': '-118.4672', 'human_address': '{...</td>\n",
       "      <td>25073.0</td>\n",
       "      <td>909.0</td>\n",
       "      <td>1263.0</td>\n",
       "      <td>10.0</td>\n",
       "      <td>10.0</td>\n",
       "      <td>30.0</td>\n",
       "    </tr>\n",
       "    <tr>\n",
       "      <th>1545</th>\n",
       "      <td>190800638</td>\n",
       "      <td>2019-06-30T00:00:00.000</td>\n",
       "      <td>2019-06-30</td>\n",
       "      <td>2125</td>\n",
       "      <td>8</td>\n",
       "      <td>West LA</td>\n",
       "      <td>859</td>\n",
       "      <td>997</td>\n",
       "      <td>TRAFFIC COLLISION</td>\n",
       "      <td>0605 1300 1402</td>\n",
       "      <td>...</td>\n",
       "      <td>STREET</td>\n",
       "      <td>LA CIENEGA                   BL</td>\n",
       "      <td>PICKFORD                     ST</td>\n",
       "      <td>{'longitude': '-118.3762', 'human_address': '{...</td>\n",
       "      <td>23666.0</td>\n",
       "      <td>645.0</td>\n",
       "      <td>709.0</td>\n",
       "      <td>NaN</td>\n",
       "      <td>6.0</td>\n",
       "      <td>95.0</td>\n",
       "    </tr>\n",
       "  </tbody>\n",
       "</table>\n",
       "<p>5 rows × 24 columns</p>\n",
       "</div>"
      ],
      "text/plain": [
       "      DR Number            Date Reported Date Occurred  Time Occurred  \\\n",
       "1541  191112942  2019-07-02T00:00:00.000    2019-06-30           1515   \n",
       "1542  190411660  2019-06-30T00:00:00.000    2019-06-30            950   \n",
       "1543  190316196  2019-06-30T00:00:00.000    2019-06-30           1540   \n",
       "1544  191415131  2019-06-30T00:00:00.000    2019-06-30           1930   \n",
       "1545  190800638  2019-06-30T00:00:00.000    2019-06-30           2125   \n",
       "\n",
       "      Area ID   Area Name  Reporting District  Crime Code  \\\n",
       "1541       11   Northeast                1142         997   \n",
       "1542        4  Hollenbeck                 437         997   \n",
       "1543        3   Southwest                 321         997   \n",
       "1544       14     Pacific                1431         997   \n",
       "1545        8     West LA                 859         997   \n",
       "\n",
       "     Crime Code Description                                      MO Codes  \\\n",
       "1541      TRAFFIC COLLISION                 0605 3101 3401 3701 3006 3030   \n",
       "1542      TRAFFIC COLLISION                                           NaN   \n",
       "1543      TRAFFIC COLLISION                                           NaN   \n",
       "1544      TRAFFIC COLLISION  3006 3028 3030 3035 3037 3101 3401 3701 4027   \n",
       "1545      TRAFFIC COLLISION                                0605 1300 1402   \n",
       "\n",
       "      ...  Premise Description                                  Address  \\\n",
       "1541  ...               STREET          RUSSELL                      AV   \n",
       "1542  ...               STREET       N  EASTERN                      AV   \n",
       "1543  ...               STREET  3400 S  LA CIENEGA                   BL   \n",
       "1544  ...               STREET          ANDALUSIA                    AV   \n",
       "1545  ...               STREET          LA CIENEGA                   BL   \n",
       "\n",
       "                         Cross Street  \\\n",
       "1541                        HILLHURST   \n",
       "1542  ZELLA                        PL   \n",
       "1543                              NaN   \n",
       "1544  ABBOT KINNEY                 BL   \n",
       "1545  PICKFORD                     ST   \n",
       "\n",
       "                                               Location Zip Codes  \\\n",
       "1541  {'longitude': '-118.2874', 'human_address': '{...   23445.0   \n",
       "1542  {'longitude': '-118.1804', 'human_address': '{...   23449.0   \n",
       "1543  {'longitude': '-118.3721', 'human_address': '{...   23077.0   \n",
       "1544  {'longitude': '-118.4672', 'human_address': '{...   25073.0   \n",
       "1545  {'longitude': '-118.3762', 'human_address': '{...   23666.0   \n",
       "\n",
       "     Census Tracts Precinct Boundaries LA Specific Plans  Council Districts  \\\n",
       "1541         399.0              1328.0              16.0                7.0   \n",
       "1542         501.0               771.0               NaN                9.0   \n",
       "1543         669.0              1068.0               NaN               12.0   \n",
       "1544         909.0              1263.0              10.0               10.0   \n",
       "1545         645.0               709.0               NaN                6.0   \n",
       "\n",
       "      Neighborhood Councils (Certified)  \n",
       "1541                                3.0  \n",
       "1542                               91.0  \n",
       "1543                               17.0  \n",
       "1544                               30.0  \n",
       "1545                               95.0  \n",
       "\n",
       "[5 rows x 24 columns]"
      ]
     },
     "execution_count": 10,
     "metadata": {},
     "output_type": "execute_result"
    }
   ],
   "source": [
    "df.head()"
   ]
  },
  {
   "cell_type": "code",
   "execution_count": 18,
   "metadata": {},
   "outputs": [],
   "source": [
    "def get_month(date):\n",
    "    return 12*(date.year - 2010) + (date.month)"
   ]
  },
  {
   "cell_type": "code",
   "execution_count": 19,
   "metadata": {},
   "outputs": [],
   "source": [
    "df[\"Month\"] = df[\"Date Occurred\"].map(get_month)"
   ]
  },
  {
   "cell_type": "code",
   "execution_count": 20,
   "metadata": {},
   "outputs": [],
   "source": [
    "df_group = df.groupby(\"Month\")"
   ]
  },
  {
   "cell_type": "code",
   "execution_count": 21,
   "metadata": {},
   "outputs": [],
   "source": [
    "scatter_plot= df_group[\"Month\"].count()"
   ]
  },
  {
   "cell_type": "code",
   "execution_count": 22,
   "metadata": {},
   "outputs": [
    {
     "data": {
      "text/plain": [
       "Int64Index([  1,   2,   3,   4,   5,   6,   7,   8,   9,  10,\n",
       "            ...\n",
       "            105, 106, 107, 108, 109, 110, 111, 112, 113, 114],\n",
       "           dtype='int64', name='Month', length=114)"
      ]
     },
     "execution_count": 22,
     "metadata": {},
     "output_type": "execute_result"
    }
   ],
   "source": [
    "scatter_plot.index"
   ]
  },
  {
   "cell_type": "code",
   "execution_count": 23,
   "metadata": {},
   "outputs": [],
   "source": [
    "import matplotlib.pyplot as plt"
   ]
  },
  {
   "cell_type": "code",
   "execution_count": 24,
   "metadata": {},
   "outputs": [
    {
     "data": {
      "text/plain": [
       "<matplotlib.collections.PathCollection at 0x1ea597362b0>"
      ]
     },
     "execution_count": 24,
     "metadata": {},
     "output_type": "execute_result"
    },
    {
     "data": {
      "image/png": "[encoded data removed]",
      "text/plain": [
       "<Figure size 432x288 with 1 Axes>"
      ]
     },
     "metadata": {
      "needs_background": "light"
     },
     "output_type": "display_data"
    }
   ],
   "source": [
    "plt.scatter(scatter_plot.index, scatter_plot)"
   ]
  },
  {
   "cell_type": "code",
   "execution_count": 25,
   "metadata": {},
   "outputs": [],
   "source": [
    "from sklearn.linear_model import LinearRegression"
   ]
  },
  {
   "cell_type": "code",
   "execution_count": 26,
   "metadata": {},
   "outputs": [],
   "source": [
    "import numpy as np"
   ]
  },
  {
   "cell_type": "code",
   "execution_count": 27,
   "metadata": {},
   "outputs": [],
   "source": [
    "X = np.array(scatter_plot.index).reshape(-1,1)\n",
    "y = scatter_plot.values"
   ]
  },
  {
   "cell_type": "code",
   "execution_count": 28,
   "metadata": {},
   "outputs": [],
   "source": [
    "from sklearn.model_selection import train_test_split\n",
    "\n",
    "X_train, X_test, y_train, y_test = train_test_split(X, y,test_size = .3)"
   ]
  },
  {
   "cell_type": "code",
   "execution_count": 29,
   "metadata": {},
   "outputs": [
    {
     "data": {
      "text/plain": [
       "LinearRegression(copy_X=True, fit_intercept=True, n_jobs=None,\n",
       "         normalize=False)"
      ]
     },
     "execution_count": 29,
     "metadata": {},
     "output_type": "execute_result"
    }
   ],
   "source": [
    "model = LinearRegression()\n",
    "\n",
    "model.fit(X_train, y_train)"
   ]
  },
  {
   "cell_type": "code",
   "execution_count": 30,
   "metadata": {},
   "outputs": [
    {
     "data": {
      "text/plain": [
       "0.7232006746100195"
      ]
     },
     "execution_count": 30,
     "metadata": {},
     "output_type": "execute_result"
    }
   ],
   "source": [
    "model.score(X_train, y_train)"
   ]
  },
  {
   "cell_type": "code",
   "execution_count": 31,
   "metadata": {},
   "outputs": [
    {
     "data": {
      "text/plain": [
       "0.6587469470450542"
      ]
     },
     "execution_count": 31,
     "metadata": {},
     "output_type": "execute_result"
    }
   ],
   "source": [
    "model.score(X_test, y_test)"
   ]
  },
  {
   "cell_type": "code",
   "execution_count": 32,
   "metadata": {},
   "outputs": [
    {
     "data": {
      "text/plain": [
       "0.7117216932199688"
      ]
     },
     "execution_count": 32,
     "metadata": {},
     "output_type": "execute_result"
    }
   ],
   "source": [
    "model.score(X,y)"
   ]
  },
  {
   "cell_type": "code",
   "execution_count": 33,
   "metadata": {},
   "outputs": [],
   "source": [
    "m = model.coef_[0]\n",
    "b = model.intercept_"
   ]
  },
  {
   "cell_type": "code",
   "execution_count": 34,
   "metadata": {},
   "outputs": [],
   "source": [
    "line_x = np.array([X.min(),X.max()])\n",
    "line_y = line_x*m + b"
   ]
  },
  {
   "cell_type": "code",
   "execution_count": 35,
   "metadata": {},
   "outputs": [
    {
     "data": {
      "text/plain": [
       "(array([  1, 114], dtype=int64), array([3484.02564017, 4922.56050334]))"
      ]
     },
     "execution_count": 35,
     "metadata": {},
     "output_type": "execute_result"
    }
   ],
   "source": [
    "line_x, line_y"
   ]
  },
  {
   "cell_type": "code",
   "execution_count": 36,
   "metadata": {},
   "outputs": [
    {
     "data": {
      "text/plain": [
       "[<matplotlib.lines.Line2D at 0x1ea5c8e0ef0>]"
      ]
     },
     "execution_count": 36,
     "metadata": {},
     "output_type": "execute_result"
    },
    {
     "data": {
      "image/png": "[encoded data removed]",
      "text/plain": [
       "<Figure size 432x288 with 1 Axes>"
      ]
     },
     "metadata": {
      "needs_background": "light"
     },
     "output_type": "display_data"
    }
   ],
   "source": [
    "plt.scatter(X, y)\n",
    "plt.plot(line_x, line_y, color=\"red\")"
   ]
  },
  {
   "cell_type": "code",
   "execution_count": 37,
   "metadata": {},
   "outputs": [],
   "source": [
    "from sklearn.metrics import mean_squared_error"
   ]
  },
  {
   "cell_type": "code",
   "execution_count": 38,
   "metadata": {},
   "outputs": [
    {
     "data": {
      "text/plain": [
       "85128.9347753915"
      ]
     },
     "execution_count": 38,
     "metadata": {},
     "output_type": "execute_result"
    }
   ],
   "source": [
    "predicted = model.predict(X_test)\n",
    "mse = mean_squared_error(y_test, predicted)\n",
    "mse"
   ]
  },
  {
   "cell_type": "code",
   "execution_count": 39,
   "metadata": {},
   "outputs": [
    {
     "data": {
      "text/plain": [
       "61842.15729473153"
      ]
     },
     "execution_count": 39,
     "metadata": {},
     "output_type": "execute_result"
    }
   ],
   "source": [
    "predicted = model.predict(X_train)\n",
    "mse = mean_squared_error(y_train, predicted)\n",
    "mse"
   ]
  },
  {
   "cell_type": "code",
   "execution_count": 40,
   "metadata": {},
   "outputs": [
    {
     "data": {
      "text/plain": [
       "1082.9166666666667"
      ]
     },
     "execution_count": 40,
     "metadata": {},
     "output_type": "execute_result"
    }
   ],
   "source": [
    "np.var(X)"
   ]
  },
  {
   "cell_type": "code",
   "execution_count": 41,
   "metadata": {},
   "outputs": [],
   "source": [
    "X2 = X.reshape(-1,) "
   ]
  },
  {
   "cell_type": "code",
   "execution_count": 42,
   "metadata": {},
   "outputs": [
    {
     "data": {
      "text/plain": [
       "array([[1.        , 0.81278633],\n",
       "       [0.81278633, 1.        ]])"
      ]
     },
     "execution_count": 42,
     "metadata": {},
     "output_type": "execute_result"
    }
   ],
   "source": [
    "np.corrcoef(X_test.reshape(-1,) , y_test)"
   ]
  },
  {
   "cell_type": "code",
   "execution_count": null,
   "metadata": {},
   "outputs": [],
   "source": []
  }
 ],
 "metadata": {
  "kernelspec": {
   "display_name": "Python 3",
   "language": "python",
   "name": "python3"
  },
  "language_info": {
   "codemirror_mode": {
    "name": "ipython",
    "version": 3
   },
   "file_extension": ".py",
   "mimetype": "text/x-python",
   "name": "python",
   "nbconvert_exporter": "python",
   "pygments_lexer": "ipython3",
   "version": "3.7.3"
  }
 },
 "nbformat": 4,
 "nbformat_minor": 2
}
