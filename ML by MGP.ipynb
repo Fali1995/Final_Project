{
 "cells": [
  {
   "cell_type": "code",
   "execution_count": 1,
   "metadata": {
    "nbgrader": {
     "grade": false,
     "grade_id": "cell-195a16dbc662c53b",
     "locked": true,
     "schema_version": 1,
     "solution": false
    }
   },
   "outputs": [],
   "source": [
    "%matplotlib inline\n",
    "import matplotlib.pyplot as plt\n",
    "import numpy as np\n",
    "import pandas as pd"
   ]
  },
  {
   "cell_type": "code",
   "execution_count": 2,
   "metadata": {},
   "outputs": [
    {
     "data": {
      "text/html": [
       "<div>\n",
       "<style scoped>\n",
       "    .dataframe tbody tr th:only-of-type {\n",
       "        vertical-align: middle;\n",
       "    }\n",
       "\n",
       "    .dataframe tbody tr th {\n",
       "        vertical-align: top;\n",
       "    }\n",
       "\n",
       "    .dataframe thead th {\n",
       "        text-align: right;\n",
       "    }\n",
       "</style>\n",
       "<table border=\"1\" class=\"dataframe\">\n",
       "  <thead>\n",
       "    <tr style=\"text-align: right;\">\n",
       "      <th></th>\n",
       "      <th>Day_Num</th>\n",
       "      <th>Num_Collisions</th>\n",
       "    </tr>\n",
       "  </thead>\n",
       "  <tbody>\n",
       "    <tr>\n",
       "      <th>189</th>\n",
       "      <td>42193</td>\n",
       "      <td>128</td>\n",
       "    </tr>\n",
       "    <tr>\n",
       "      <th>190</th>\n",
       "      <td>42194</td>\n",
       "      <td>117</td>\n",
       "    </tr>\n",
       "    <tr>\n",
       "      <th>191</th>\n",
       "      <td>42195</td>\n",
       "      <td>100</td>\n",
       "    </tr>\n",
       "    <tr>\n",
       "      <th>192</th>\n",
       "      <td>42196</td>\n",
       "      <td>87</td>\n",
       "    </tr>\n",
       "    <tr>\n",
       "      <th>193</th>\n",
       "      <td>42197</td>\n",
       "      <td>24</td>\n",
       "    </tr>\n",
       "  </tbody>\n",
       "</table>\n",
       "</div>"
      ],
      "text/plain": [
       "     Day_Num  Num_Collisions\n",
       "189    42193             128\n",
       "190    42194             117\n",
       "191    42195             100\n",
       "192    42196              87\n",
       "193    42197              24"
      ]
     },
     "execution_count": 2,
     "metadata": {},
     "output_type": "execute_result"
    }
   ],
   "source": [
    "# Read the csv file into a pandas DataFrame\n",
    "\n",
    "ML_df = pd.read_csv('final_2019.csv')\n",
    "ML_df.tail()"
   ]
  },
  {
   "cell_type": "code",
   "execution_count": 3,
   "metadata": {},
   "outputs": [
    {
     "name": "stdout",
     "output_type": "stream",
     "text": [
      "(194, 1) (194, 1)\n"
     ]
    }
   ],
   "source": [
    "# Assign the data to X and y\n",
    "\n",
    "X = ML_df[[\"Day_Num\"]]\n",
    "y = ML_df[\"Num_Collisions\"].values.reshape(-1, 1)\n",
    "print(X.shape, y.shape)"
   ]
  },
  {
   "cell_type": "code",
   "execution_count": 4,
   "metadata": {
    "nbgrader": {
     "grade": false,
     "grade_id": "cell-97f9d8f3d4b7abc1",
     "locked": false,
     "schema_version": 1,
     "solution": true
    }
   },
   "outputs": [],
   "source": [
    "# Use train_test_split to create training and testing data\n",
    "\n",
    "### BEGIN SOLUTION\n",
    "from sklearn.model_selection import train_test_split\n",
    "\n",
    "X_train, X_test, y_train, y_test = train_test_split(X, y)\n",
    "\n",
    "### END SOLUTION"
   ]
  },
  {
   "cell_type": "code",
   "execution_count": 5,
   "metadata": {},
   "outputs": [
    {
     "data": {
      "text/plain": [
       "(145, 1)"
      ]
     },
     "execution_count": 5,
     "metadata": {},
     "output_type": "execute_result"
    }
   ],
   "source": [
    "X_train.shape"
   ]
  },
  {
   "cell_type": "code",
   "execution_count": 6,
   "metadata": {},
   "outputs": [
    {
     "data": {
      "text/plain": [
       "array([[124],\n",
       "       [117],\n",
       "       [149],\n",
       "       [138],\n",
       "       [130],\n",
       "       [113],\n",
       "       [131],\n",
       "       [144],\n",
       "       [153],\n",
       "       [157],\n",
       "       [190],\n",
       "       [142],\n",
       "       [119],\n",
       "       [150],\n",
       "       [173],\n",
       "       [174],\n",
       "       [169],\n",
       "       [169],\n",
       "       [144],\n",
       "       [119],\n",
       "       [128],\n",
       "       [110],\n",
       "       [161],\n",
       "       [156],\n",
       "       [179],\n",
       "       [139],\n",
       "       [124],\n",
       "       [121],\n",
       "       [157],\n",
       "       [146],\n",
       "       [172],\n",
       "       [157],\n",
       "       [183],\n",
       "       [155],\n",
       "       [151],\n",
       "       [171],\n",
       "       [122],\n",
       "       [166],\n",
       "       [167],\n",
       "       [167],\n",
       "       [128],\n",
       "       [162],\n",
       "       [143],\n",
       "       [184],\n",
       "       [168],\n",
       "       [186],\n",
       "       [138],\n",
       "       [134],\n",
       "       [139],\n",
       "       [147],\n",
       "       [143],\n",
       "       [165],\n",
       "       [198],\n",
       "       [155],\n",
       "       [143],\n",
       "       [134],\n",
       "       [154],\n",
       "       [152],\n",
       "       [191],\n",
       "       [178],\n",
       "       [142],\n",
       "       [133],\n",
       "       [139],\n",
       "       [150],\n",
       "       [184],\n",
       "       [161],\n",
       "       [163],\n",
       "       [155],\n",
       "       [131],\n",
       "       [133],\n",
       "       [161],\n",
       "       [186],\n",
       "       [169],\n",
       "       [183],\n",
       "       [174],\n",
       "       [151],\n",
       "       [187],\n",
       "       [159],\n",
       "       [151],\n",
       "       [175],\n",
       "       [197],\n",
       "       [119],\n",
       "       [134],\n",
       "       [136],\n",
       "       [168],\n",
       "       [137],\n",
       "       [178],\n",
       "       [199],\n",
       "       [155],\n",
       "       [132],\n",
       "       [156],\n",
       "       [163],\n",
       "       [156],\n",
       "       [157],\n",
       "       [168],\n",
       "       [166],\n",
       "       [143],\n",
       "       [147],\n",
       "       [147],\n",
       "       [188],\n",
       "       [150],\n",
       "       [176],\n",
       "       [154],\n",
       "       [116],\n",
       "       [126],\n",
       "       [124],\n",
       "       [169],\n",
       "       [185],\n",
       "       [151],\n",
       "       [127],\n",
       "       [131],\n",
       "       [179],\n",
       "       [143],\n",
       "       [141],\n",
       "       [164],\n",
       "       [159],\n",
       "       [127],\n",
       "       [115],\n",
       "       [152],\n",
       "       [136],\n",
       "       [170],\n",
       "       [160],\n",
       "       [176],\n",
       "       [128],\n",
       "       [152],\n",
       "       [153],\n",
       "       [124],\n",
       "       [151],\n",
       "       [146],\n",
       "       [183],\n",
       "       [148],\n",
       "       [123],\n",
       "       [158],\n",
       "       [136],\n",
       "       [153],\n",
       "       [164],\n",
       "       [162],\n",
       "       [173],\n",
       "       [129],\n",
       "       [137],\n",
       "       [155],\n",
       "       [172],\n",
       "       [143],\n",
       "       [184],\n",
       "       [126],\n",
       "       [111],\n",
       "       [111],\n",
       "       [145],\n",
       "       [151],\n",
       "       [164],\n",
       "       [162],\n",
       "       [144],\n",
       "       [154],\n",
       "       [133],\n",
       "       [152],\n",
       "       [181],\n",
       "       [162],\n",
       "       [151],\n",
       "       [164],\n",
       "       [120],\n",
       "       [161],\n",
       "       [152],\n",
       "       [155],\n",
       "       [149],\n",
       "       [171],\n",
       "       [157],\n",
       "       [132],\n",
       "       [128],\n",
       "       [130],\n",
       "       [138],\n",
       "       [139],\n",
       "       [144],\n",
       "       [152],\n",
       "       [141],\n",
       "       [140],\n",
       "       [117],\n",
       "       [147],\n",
       "       [175],\n",
       "       [152],\n",
       "       [165],\n",
       "       [126],\n",
       "       [152],\n",
       "       [145],\n",
       "       [174],\n",
       "       [115],\n",
       "       [139],\n",
       "       [123],\n",
       "       [108],\n",
       "       [129],\n",
       "       [128],\n",
       "       [117],\n",
       "       [100],\n",
       "       [ 87],\n",
       "       [ 24]])"
      ]
     },
     "execution_count": 6,
     "metadata": {},
     "output_type": "execute_result"
    }
   ],
   "source": [
    "y"
   ]
  },
  {
   "cell_type": "code",
   "execution_count": 7,
   "metadata": {},
   "outputs": [
    {
     "data": {
      "text/plain": [
       "<matplotlib.collections.PathCollection at 0x1a1a3c4048>"
      ]
     },
     "execution_count": 7,
     "metadata": {},
     "output_type": "execute_result"
    },
    {
     "data": {
      "image/png": "[encoded data removed]",
      "text/plain": [
       "<Figure size 432x288 with 1 Axes>"
      ]
     },
     "metadata": {
      "needs_background": "light"
     },
     "output_type": "display_data"
    }
   ],
   "source": [
    "plt.scatter(X, y)"
   ]
  },
  {
   "cell_type": "code",
   "execution_count": 8,
   "metadata": {},
   "outputs": [
    {
     "data": {
      "text/plain": [
       "LinearRegression(copy_X=True, fit_intercept=True, n_jobs=None,\n",
       "         normalize=False)"
      ]
     },
     "execution_count": 8,
     "metadata": {},
     "output_type": "execute_result"
    }
   ],
   "source": [
    "from sklearn.linear_model import LinearRegression\n",
    "model = LinearRegression()\n",
    "model"
   ]
  },
  {
   "cell_type": "code",
   "execution_count": 9,
   "metadata": {},
   "outputs": [
    {
     "name": "stdout",
     "output_type": "stream",
     "text": [
      "LinearRegression(copy_X=True, fit_intercept=True, n_jobs=None,\n",
      "         normalize=False)\n"
     ]
    }
   ],
   "source": [
    "model.fit(X, y)\n",
    "print(model)"
   ]
  },
  {
   "cell_type": "code",
   "execution_count": 10,
   "metadata": {},
   "outputs": [
    {
     "data": {
      "text/plain": [
       "1"
      ]
     },
     "execution_count": 10,
     "metadata": {},
     "output_type": "execute_result"
    }
   ],
   "source": [
    "len(model.coef_)"
   ]
  },
  {
   "cell_type": "code",
   "execution_count": 11,
   "metadata": {},
   "outputs": [
    {
     "name": "stdout",
     "output_type": "stream",
     "text": [
      "Weight coefficients:  [[-0.08038361]]\n",
      "y-axis intercept:  [3533.46846856]\n"
     ]
    }
   ],
   "source": [
    "print('Weight coefficients: ', model.coef_)\n",
    "print('y-axis intercept: ', model.intercept_) "
   ]
  },
  {
   "cell_type": "code",
   "execution_count": 15,
   "metadata": {},
   "outputs": [],
   "source": [
    "test = 42198"
   ]
  },
  {
   "cell_type": "code",
   "execution_count": 16,
   "metadata": {},
   "outputs": [
    {
     "data": {
      "text/plain": [
       "array([[141.44094867]])"
      ]
     },
     "execution_count": 16,
     "metadata": {},
     "output_type": "execute_result"
    }
   ],
   "source": [
    "model.predict(np.array(test).reshape((1,1)))"
   ]
  },
  {
   "cell_type": "code",
   "execution_count": 21,
   "metadata": {},
   "outputs": [
    {
     "name": "stdout",
     "output_type": "stream",
     "text": [
      "True output: [124]\n",
      "Predicted output: [157.03536875]\n",
      "Prediction Error: [33.03536875]\n"
     ]
    }
   ],
   "source": [
    "predictions = model.predict(X)\n",
    "print(f\"True output: {y[0]}\")\n",
    "print(f\"Predicted output: {predictions[0]}\")\n",
    "print(f\"Prediction Error: {predictions[0]-y[0]}\")"
   ]
  },
  {
   "cell_type": "code",
   "execution_count": 22,
   "metadata": {},
   "outputs": [
    {
     "name": "stdout",
     "output_type": "stream",
     "text": [
      "R2 Score: 0.03849749537229952\n"
     ]
    }
   ],
   "source": [
    "score = model.score(X, y)\n",
    "print(f\"R2 Score: {score}\")"
   ]
  },
  {
   "cell_type": "code",
   "execution_count": 23,
   "metadata": {},
   "outputs": [],
   "source": [
    "x_min = np.array(X.min()).reshape((1,1))\n",
    "x_max = np.array(X.max()).reshape((1,1))"
   ]
  },
  {
   "cell_type": "code",
   "execution_count": 25,
   "metadata": {},
   "outputs": [],
   "source": [
    "y_min_actual = np.array(y.min()).reshape((-1,1))\n",
    "y_max_actual = np.array(y.max()).reshape((-1,1))"
   ]
  },
  {
   "cell_type": "code",
   "execution_count": 27,
   "metadata": {},
   "outputs": [],
   "source": [
    "y_min = 3533.46846856 + -0.08038361 * x_min\n",
    "y_max = 3533.46846856 + -0.08038361 * x_max"
   ]
  },
  {
   "cell_type": "code",
   "execution_count": 28,
   "metadata": {},
   "outputs": [
    {
     "data": {
      "text/plain": [
       "[<matplotlib.lines.Line2D at 0x1a1ecd8f28>]"
      ]
     },
     "execution_count": 28,
     "metadata": {},
     "output_type": "execute_result"
    },
    {
     "data": {
      "image/png": "[encoded data removed]",
      "text/plain": [
       "<Figure size 432x288 with 1 Axes>"
      ]
     },
     "metadata": {
      "needs_background": "light"
     },
     "output_type": "display_data"
    }
   ],
   "source": [
    "plt.scatter(X, y, c='blue')\n",
    "plt.plot([x_min[0], x_max[0]], [y_min[0], y_max[0]], c='red')"
   ]
  },
  {
   "cell_type": "code",
   "execution_count": 30,
   "metadata": {},
   "outputs": [],
   "source": [
    "y_min_predicted = model.predict(x_min)\n",
    "y_max_predicted = model.predict(x_max)"
   ]
  },
  {
   "cell_type": "code",
   "execution_count": 31,
   "metadata": {
    "nbgrader": {
     "grade": false,
     "grade_id": "cell-715f0369813d2b84",
     "locked": false,
     "schema_version": 1,
     "solution": true
    }
   },
   "outputs": [
    {
     "name": "stdout",
     "output_type": "stream",
     "text": [
      "Training Score: 0.04096996971908107\n",
      "Testing Score: 0.026805693148584275\n"
     ]
    }
   ],
   "source": [
    "# Fit the model to the training data and calculate the scores for the training and testing data\n",
    "\n",
    "### BEGIN SOLUTION\n",
    "model.fit(X_train, y_train)\n",
    "training_score = model.score(X_train, y_train)\n",
    "testing_score = model.score(X_test, y_test)\n",
    "\n",
    "### END SOLUTION \n",
    "\n",
    "print(f\"Training Score: {training_score}\")\n",
    "print(f\"Testing Score: {testing_score}\")"
   ]
  },
  {
   "cell_type": "code",
   "execution_count": null,
   "metadata": {},
   "outputs": [],
   "source": []
  },
  {
   "cell_type": "code",
   "execution_count": 32,
   "metadata": {
    "nbgrader": {
     "grade": false,
     "grade_id": "cell-90aed41fb7c4f723",
     "locked": false,
     "schema_version": 1,
     "solution": true
    }
   },
   "outputs": [
    {
     "data": {
      "text/plain": [
       "Text(0.5, 1.0, 'Residual Plot')"
      ]
     },
     "execution_count": 32,
     "metadata": {},
     "output_type": "execute_result"
    },
    {
     "data": {
      "image/png": "[encoded data removed]",
      "text/plain": [
       "<Figure size 432x288 with 1 Axes>"
      ]
     },
     "metadata": {
      "needs_background": "light"
     },
     "output_type": "display_data"
    }
   ],
   "source": [
    "# Plot the Residuals for the Training and Testing data\n",
    "\n",
    "### BEGIN SOLUTION\n",
    "plt.scatter(model.predict(X_train), model.predict(X_train) - y_train, c=\"blue\", label=\"Training Data\")\n",
    "plt.scatter(model.predict(X_test), model.predict(X_test) - y_test, c=\"orange\", label=\"Testing Data\")\n",
    "plt.legend()\n",
    "plt.hlines(y=0, xmin=y.min(), xmax=y.max())\n",
    "plt.title(\"Residual Plot\")\n",
    "### END SOLUTION"
   ]
  },
  {
   "cell_type": "code",
   "execution_count": null,
   "metadata": {},
   "outputs": [],
   "source": []
  },
  {
   "cell_type": "code",
   "execution_count": null,
   "metadata": {},
   "outputs": [],
   "source": []
  }
 ],
 "metadata": {
  "celltoolbar": "Create Assignment",
  "kernelspec": {
   "display_name": "Python 3",
   "language": "python",
   "name": "python3"
  },
  "language_info": {
   "codemirror_mode": {
    "name": "ipython",
    "version": 3
   },
   "file_extension": ".py",
   "mimetype": "text/x-python",
   "name": "python",
   "nbconvert_exporter": "python",
   "pygments_lexer": "ipython3",
   "version": "3.7.1"
  },
  "varInspector": {
   "cols": {
    "lenName": 16,
    "lenType": 16,
    "lenVar": 40
   },
   "kernels_config": {
    "python": {
     "delete_cmd_postfix": "",
     "delete_cmd_prefix": "del ",
     "library": "var_list.py",
     "varRefreshCmd": "print(var_dic_list())"
    },
    "r": {
     "delete_cmd_postfix": ") ",
     "delete_cmd_prefix": "rm(",
     "library": "var_list.r",
     "varRefreshCmd": "cat(var_dic_list()) "
    }
   },
   "types_to_exclude": [
    "module",
    "function",
    "builtin_function_or_method",
    "instance",
    "_Feature"
   ],
   "window_display": false
  }
 },
 "nbformat": 4,
 "nbformat_minor": 2
}
